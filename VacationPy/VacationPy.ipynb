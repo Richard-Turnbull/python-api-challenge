{
 "cells": [
  {
   "cell_type": "markdown",
   "metadata": {},
   "source": [
    "# VacationPy\n",
    "----\n",
    "\n",
    "#### Note\n",
    "* Keep an eye on your API usage. Use https://developers.google.com/maps/reporting/gmp-reporting as reference for how to monitor your usage and billing.\n",
    "\n",
    "* Instructions have been included for each segment. You do not have to follow them exactly, but they are included to help you think through the steps."
   ]
  },
  {
   "cell_type": "code",
   "execution_count": 2,
   "metadata": {},
   "outputs": [],
   "source": [
    "# Dependencies and Setup\n",
    "import matplotlib.pyplot as plt\n",
    "import pandas as pd\n",
    "import numpy as np\n",
    "import requests\n",
    "import gmaps\n",
    "import os\n",
    "\n",
    "# Import API key\n",
    "from api_keys import g_key"
   ]
  },
  {
   "cell_type": "markdown",
   "metadata": {},
   "source": [
    "### Store Part I results into DataFrame\n",
    "* Load the csv exported in Part I to a DataFrame"
   ]
  },
  {
   "cell_type": "code",
   "execution_count": 3,
   "metadata": {},
   "outputs": [
    {
     "data": {
      "text/html": [
       "<div>\n",
       "<style scoped>\n",
       "    .dataframe tbody tr th:only-of-type {\n",
       "        vertical-align: middle;\n",
       "    }\n",
       "\n",
       "    .dataframe tbody tr th {\n",
       "        vertical-align: top;\n",
       "    }\n",
       "\n",
       "    .dataframe thead th {\n",
       "        text-align: right;\n",
       "    }\n",
       "</style>\n",
       "<table border=\"1\" class=\"dataframe\">\n",
       "  <thead>\n",
       "    <tr style=\"text-align: right;\">\n",
       "      <th></th>\n",
       "      <th>City</th>\n",
       "      <th>Latitude</th>\n",
       "      <th>Longitude</th>\n",
       "      <th>Temperature</th>\n",
       "      <th>Humidity</th>\n",
       "      <th>Cloudiness</th>\n",
       "      <th>Wind_Speed</th>\n",
       "    </tr>\n",
       "  </thead>\n",
       "  <tbody>\n",
       "    <tr>\n",
       "      <th>0</th>\n",
       "      <td>Geraldton</td>\n",
       "      <td>-28.7667</td>\n",
       "      <td>114.6000</td>\n",
       "      <td>31.23</td>\n",
       "      <td>22</td>\n",
       "      <td>7</td>\n",
       "      <td>2.57</td>\n",
       "    </tr>\n",
       "    <tr>\n",
       "      <th>1</th>\n",
       "      <td>Pinar del Río</td>\n",
       "      <td>22.4175</td>\n",
       "      <td>-83.6981</td>\n",
       "      <td>19.58</td>\n",
       "      <td>83</td>\n",
       "      <td>26</td>\n",
       "      <td>3.14</td>\n",
       "    </tr>\n",
       "    <tr>\n",
       "      <th>2</th>\n",
       "      <td>Corte Madera</td>\n",
       "      <td>37.9255</td>\n",
       "      <td>-122.5275</td>\n",
       "      <td>15.74</td>\n",
       "      <td>74</td>\n",
       "      <td>0</td>\n",
       "      <td>4.02</td>\n",
       "    </tr>\n",
       "    <tr>\n",
       "      <th>3</th>\n",
       "      <td>Skeldon</td>\n",
       "      <td>5.8833</td>\n",
       "      <td>-57.1333</td>\n",
       "      <td>23.64</td>\n",
       "      <td>95</td>\n",
       "      <td>99</td>\n",
       "      <td>1.49</td>\n",
       "    </tr>\n",
       "    <tr>\n",
       "      <th>4</th>\n",
       "      <td>Huitán</td>\n",
       "      <td>15.1000</td>\n",
       "      <td>-91.6167</td>\n",
       "      <td>11.87</td>\n",
       "      <td>86</td>\n",
       "      <td>93</td>\n",
       "      <td>0.77</td>\n",
       "    </tr>\n",
       "  </tbody>\n",
       "</table>\n",
       "</div>"
      ],
      "text/plain": [
       "            City  Latitude  Longitude  Temperature  Humidity  Cloudiness  \\\n",
       "0      Geraldton  -28.7667   114.6000        31.23        22           7   \n",
       "1  Pinar del Río   22.4175   -83.6981        19.58        83          26   \n",
       "2   Corte Madera   37.9255  -122.5275        15.74        74           0   \n",
       "3        Skeldon    5.8833   -57.1333        23.64        95          99   \n",
       "4         Huitán   15.1000   -91.6167        11.87        86          93   \n",
       "\n",
       "   Wind_Speed  \n",
       "0        2.57  \n",
       "1        3.14  \n",
       "2        4.02  \n",
       "3        1.49  \n",
       "4        0.77  "
      ]
     },
     "execution_count": 3,
     "metadata": {},
     "output_type": "execute_result"
    }
   ],
   "source": [
    "weather_data_path = \"../WeatherPy/cities_df.csv\"\n",
    "weather_data = pd.read_csv(weather_data_path)\n",
    "\n",
    "# Drop unnamend column\n",
    "weather_data = weather_data[['City', 'Latitude', 'Longitude', 'Temperature',\n",
    "       'Humidity', 'Cloudiness', 'Wind_Speed']]\n",
    "weather_data.head()\n"
   ]
  },
  {
   "cell_type": "markdown",
   "metadata": {},
   "source": [
    "### Humidity Heatmap\n",
    "* Configure gmaps.\n",
    "* Use the Lat and Lng as locations and Humidity as the weight.\n",
    "* Add Heatmap layer to map."
   ]
  },
  {
   "cell_type": "code",
   "execution_count": 4,
   "metadata": {},
   "outputs": [],
   "source": [
    "# Store latitude and longitude in locations\n",
    "locations = weather_data[[\"Latitude\", \"Longitude\"]]\n",
    "humidity = weather_data[\"Humidity\"]"
   ]
  },
  {
   "cell_type": "code",
   "execution_count": 5,
   "metadata": {},
   "outputs": [
    {
     "data": {
      "application/vnd.jupyter.widget-view+json": {
       "model_id": "605b9e6cfde64b6095bfa0abed4317d3",
       "version_major": 2,
       "version_minor": 0
      },
      "text/plain": [
       "Figure(layout=FigureLayout(height='420px'))"
      ]
     },
     "metadata": {},
     "output_type": "display_data"
    }
   ],
   "source": [
    "# Plot Heatmap\n",
    "fig = gmaps.figure()\n",
    "\n",
    "# Create heat layer\n",
    "heat_layer = gmaps.heatmap_layer(locations, weights=humidity, \n",
    "                                 dissipating=False, max_intensity=100,\n",
    "                                 point_radius=1)\n",
    "\n",
    "\n",
    "# Add layer\n",
    "fig.add_layer(heat_layer)\n",
    "\n",
    "# Display figure\n",
    "fig"
   ]
  },
  {
   "cell_type": "markdown",
   "metadata": {},
   "source": [
    "### Create new DataFrame fitting weather criteria\n",
    "* Narrow down the cities to fit weather conditions.\n",
    "* Drop any rows will null values."
   ]
  },
  {
   "cell_type": "code",
   "execution_count": 6,
   "metadata": {},
   "outputs": [
    {
     "name": "stdout",
     "output_type": "stream",
     "text": [
      "16\n"
     ]
    },
    {
     "data": {
      "text/html": [
       "<div>\n",
       "<style scoped>\n",
       "    .dataframe tbody tr th:only-of-type {\n",
       "        vertical-align: middle;\n",
       "    }\n",
       "\n",
       "    .dataframe tbody tr th {\n",
       "        vertical-align: top;\n",
       "    }\n",
       "\n",
       "    .dataframe thead th {\n",
       "        text-align: right;\n",
       "    }\n",
       "</style>\n",
       "<table border=\"1\" class=\"dataframe\">\n",
       "  <thead>\n",
       "    <tr style=\"text-align: right;\">\n",
       "      <th></th>\n",
       "      <th>City</th>\n",
       "      <th>Latitude</th>\n",
       "      <th>Longitude</th>\n",
       "      <th>Temperature</th>\n",
       "      <th>Humidity</th>\n",
       "      <th>Cloudiness</th>\n",
       "      <th>Wind_Speed</th>\n",
       "    </tr>\n",
       "  </thead>\n",
       "  <tbody>\n",
       "    <tr>\n",
       "      <th>137</th>\n",
       "      <td>Radcliff</td>\n",
       "      <td>37.8404</td>\n",
       "      <td>-85.9491</td>\n",
       "      <td>21.58</td>\n",
       "      <td>55</td>\n",
       "      <td>0</td>\n",
       "      <td>3.13</td>\n",
       "    </tr>\n",
       "    <tr>\n",
       "      <th>167</th>\n",
       "      <td>San Carlos Park</td>\n",
       "      <td>26.4673</td>\n",
       "      <td>-81.8015</td>\n",
       "      <td>22.98</td>\n",
       "      <td>74</td>\n",
       "      <td>0</td>\n",
       "      <td>5.14</td>\n",
       "    </tr>\n",
       "    <tr>\n",
       "      <th>226</th>\n",
       "      <td>Clearwater</td>\n",
       "      <td>27.9659</td>\n",
       "      <td>-82.8001</td>\n",
       "      <td>22.96</td>\n",
       "      <td>70</td>\n",
       "      <td>0</td>\n",
       "      <td>6.26</td>\n",
       "    </tr>\n",
       "    <tr>\n",
       "      <th>281</th>\n",
       "      <td>Cabot</td>\n",
       "      <td>34.9745</td>\n",
       "      <td>-92.0165</td>\n",
       "      <td>22.79</td>\n",
       "      <td>72</td>\n",
       "      <td>0</td>\n",
       "      <td>0.00</td>\n",
       "    </tr>\n",
       "    <tr>\n",
       "      <th>282</th>\n",
       "      <td>St. Marys</td>\n",
       "      <td>30.7305</td>\n",
       "      <td>-81.5465</td>\n",
       "      <td>22.01</td>\n",
       "      <td>79</td>\n",
       "      <td>0</td>\n",
       "      <td>4.12</td>\n",
       "    </tr>\n",
       "  </tbody>\n",
       "</table>\n",
       "</div>"
      ],
      "text/plain": [
       "                City  Latitude  Longitude  Temperature  Humidity  Cloudiness  \\\n",
       "137         Radcliff   37.8404   -85.9491        21.58        55           0   \n",
       "167  San Carlos Park   26.4673   -81.8015        22.98        74           0   \n",
       "226       Clearwater   27.9659   -82.8001        22.96        70           0   \n",
       "281            Cabot   34.9745   -92.0165        22.79        72           0   \n",
       "282        St. Marys   30.7305   -81.5465        22.01        79           0   \n",
       "\n",
       "     Wind_Speed  \n",
       "137        3.13  \n",
       "167        5.14  \n",
       "226        6.26  \n",
       "281        0.00  \n",
       "282        4.12  "
      ]
     },
     "execution_count": 6,
     "metadata": {},
     "output_type": "execute_result"
    }
   ],
   "source": [
    "#----------------------------------------------------------------------------------------------------\n",
    "# FIND CITIES WITH PERFECT CONDITIONS. DROP ANY ROWS THAT DON\"T CONTAIN ALL THREE CONDITIONS BELOW\n",
    "#--- TEMPERATURE BETWEEN 21 & 27 DEGREES CENTIGRADE\n",
    "#--- WIND SPEED LESS THAN 10 MPH\n",
    "#--- ZERO CLOUDINESS\n",
    "#----------------------------------------------------------------------------------------------------\n",
    "\n",
    "perfect_weather_df = weather_data[(weather_data['Temperature'] >= 21) & (weather_data['Temperature'] < 26) & (weather_data['Wind_Speed'] < 10) & (weather_data['Cloudiness'] == 0)]\n",
    "\n",
    "# Visualize\n",
    "print(len(perfect_weather_df))\n",
    "perfect_weather_df.head()\n"
   ]
  },
  {
   "cell_type": "markdown",
   "metadata": {},
   "source": [
    "### Hotel Map\n",
    "* Store into variable named `hotel_df`.\n",
    "* Add a \"Hotel Name\" column to the DataFrame.\n",
    "* Set parameters to search for hotels with 5000 meters.\n",
    "* Hit the Google Places API for each city's coordinates.\n",
    "* Store the first Hotel result into the DataFrame.\n",
    "* Plot markers on top of the heatmap."
   ]
  },
  {
   "cell_type": "code",
   "execution_count": 7,
   "metadata": {},
   "outputs": [
    {
     "name": "stderr",
     "output_type": "stream",
     "text": [
      "C:\\Users\\rjtur\\AppData\\Local\\Temp/ipykernel_17108/2665564006.py:5: SettingWithCopyWarning: \n",
      "A value is trying to be set on a copy of a slice from a DataFrame.\n",
      "Try using .loc[row_indexer,col_indexer] = value instead\n",
      "\n",
      "See the caveats in the documentation: https://pandas.pydata.org/pandas-docs/stable/user_guide/indexing.html#returning-a-view-versus-a-copy\n",
      "  hotel_df[\"Hotel Name\"] = ''\n"
     ]
    },
    {
     "data": {
      "text/html": [
       "<div>\n",
       "<style scoped>\n",
       "    .dataframe tbody tr th:only-of-type {\n",
       "        vertical-align: middle;\n",
       "    }\n",
       "\n",
       "    .dataframe tbody tr th {\n",
       "        vertical-align: top;\n",
       "    }\n",
       "\n",
       "    .dataframe thead th {\n",
       "        text-align: right;\n",
       "    }\n",
       "</style>\n",
       "<table border=\"1\" class=\"dataframe\">\n",
       "  <thead>\n",
       "    <tr style=\"text-align: right;\">\n",
       "      <th></th>\n",
       "      <th>City</th>\n",
       "      <th>Latitude</th>\n",
       "      <th>Longitude</th>\n",
       "      <th>Temperature</th>\n",
       "      <th>Humidity</th>\n",
       "      <th>Cloudiness</th>\n",
       "      <th>Wind_Speed</th>\n",
       "      <th>Hotel Name</th>\n",
       "    </tr>\n",
       "  </thead>\n",
       "  <tbody>\n",
       "    <tr>\n",
       "      <th>137</th>\n",
       "      <td>Radcliff</td>\n",
       "      <td>37.8404</td>\n",
       "      <td>-85.9491</td>\n",
       "      <td>21.58</td>\n",
       "      <td>55</td>\n",
       "      <td>0</td>\n",
       "      <td>3.13</td>\n",
       "      <td></td>\n",
       "    </tr>\n",
       "    <tr>\n",
       "      <th>167</th>\n",
       "      <td>San Carlos Park</td>\n",
       "      <td>26.4673</td>\n",
       "      <td>-81.8015</td>\n",
       "      <td>22.98</td>\n",
       "      <td>74</td>\n",
       "      <td>0</td>\n",
       "      <td>5.14</td>\n",
       "      <td></td>\n",
       "    </tr>\n",
       "    <tr>\n",
       "      <th>226</th>\n",
       "      <td>Clearwater</td>\n",
       "      <td>27.9659</td>\n",
       "      <td>-82.8001</td>\n",
       "      <td>22.96</td>\n",
       "      <td>70</td>\n",
       "      <td>0</td>\n",
       "      <td>6.26</td>\n",
       "      <td></td>\n",
       "    </tr>\n",
       "    <tr>\n",
       "      <th>281</th>\n",
       "      <td>Cabot</td>\n",
       "      <td>34.9745</td>\n",
       "      <td>-92.0165</td>\n",
       "      <td>22.79</td>\n",
       "      <td>72</td>\n",
       "      <td>0</td>\n",
       "      <td>0.00</td>\n",
       "      <td></td>\n",
       "    </tr>\n",
       "    <tr>\n",
       "      <th>282</th>\n",
       "      <td>St. Marys</td>\n",
       "      <td>30.7305</td>\n",
       "      <td>-81.5465</td>\n",
       "      <td>22.01</td>\n",
       "      <td>79</td>\n",
       "      <td>0</td>\n",
       "      <td>4.12</td>\n",
       "      <td></td>\n",
       "    </tr>\n",
       "  </tbody>\n",
       "</table>\n",
       "</div>"
      ],
      "text/plain": [
       "                City  Latitude  Longitude  Temperature  Humidity  Cloudiness  \\\n",
       "137         Radcliff   37.8404   -85.9491        21.58        55           0   \n",
       "167  San Carlos Park   26.4673   -81.8015        22.98        74           0   \n",
       "226       Clearwater   27.9659   -82.8001        22.96        70           0   \n",
       "281            Cabot   34.9745   -92.0165        22.79        72           0   \n",
       "282        St. Marys   30.7305   -81.5465        22.01        79           0   \n",
       "\n",
       "     Wind_Speed Hotel Name  \n",
       "137        3.13             \n",
       "167        5.14             \n",
       "226        6.26             \n",
       "281        0.00             \n",
       "282        4.12             "
      ]
     },
     "execution_count": 7,
     "metadata": {},
     "output_type": "execute_result"
    }
   ],
   "source": [
    "#---------------------------------------------\n",
    "# STORE INTO VARIABLE NAMED 'HOTEL_DF'\n",
    "# ADD A 'HOTEL NAME' COLUMN TO THE DATAFRAME\n",
    "hotel_df = perfect_weather_df\n",
    "hotel_df[\"Hotel Name\"] = ''\n",
    "hotel_df.head()\n",
    "\n",
    "#---------------------------------------------\n",
    "# SET PARAMETERS TO SEARCH FOR HOTELS WITHIN 5000 METERS\n",
    "# HIT THE GOOGLE PLACES API FOR EACH CITY\"S COORDINATES\n",
    "# STOR THE FIRST HOTEL RESULT INTO THE DATAFRAME\n",
    "# PLOT MARKERS ON TOP OF THE HEATMAP\n",
    "#---------------------------------------------\n",
    "\n"
   ]
  },
  {
   "cell_type": "code",
   "execution_count": null,
   "metadata": {},
   "outputs": [],
   "source": []
  },
  {
   "cell_type": "code",
   "execution_count": null,
   "metadata": {},
   "outputs": [],
   "source": [
    "# NOTE: Do not change any of the code in this cell\n",
    "\n",
    "# Using the template add the hotel marks to the heatmap\n",
    "info_box_template = \"\"\"\n",
    "<dl>\n",
    "<dt>Name</dt><dd>{Hotel Name}</dd>\n",
    "<dt>City</dt><dd>{City}</dd>\n",
    "<dt>Country</dt><dd>{Country}</dd>\n",
    "</dl>\n",
    "\"\"\"\n",
    "# Store the DataFrame Row\n",
    "# NOTE: be sure to update with your DataFrame name\n",
    "hotel_info = [info_box_template.format(**row) for index, row in hotel_df.iterrows()]\n",
    "locations = hotel_df[[\"Lat\", \"Lng\"]]"
   ]
  },
  {
   "cell_type": "code",
   "execution_count": null,
   "metadata": {},
   "outputs": [],
   "source": [
    "# Add marker layer ontop of heat map\n",
    "\n",
    "\n",
    "# Display figure\n"
   ]
  },
  {
   "cell_type": "code",
   "execution_count": null,
   "metadata": {},
   "outputs": [],
   "source": []
  }
 ],
 "metadata": {
  "interpreter": {
   "hash": "1049acb32682a8ee8b8ca7bd3afb95137f2492baa5829d17e6289976c77a4997"
  },
  "kernelspec": {
   "display_name": "pydev",
   "language": "python",
   "name": "python3"
  },
  "language_info": {
   "codemirror_mode": {
    "name": "ipython",
    "version": 3
   },
   "file_extension": ".py",
   "mimetype": "text/x-python",
   "name": "python",
   "nbconvert_exporter": "python",
   "pygments_lexer": "ipython3",
   "version": "3.9.7"
  },
  "latex_envs": {
   "LaTeX_envs_menu_present": true,
   "autoclose": false,
   "autocomplete": true,
   "bibliofile": "biblio.bib",
   "cite_by": "apalike",
   "current_citInitial": 1,
   "eqLabelWithNumbers": true,
   "eqNumInitial": 1,
   "hotkeys": {
    "equation": "Ctrl-E",
    "itemize": "Ctrl-I"
   },
   "labels_anchors": false,
   "latex_user_defs": false,
   "report_style_numbering": false,
   "user_envs_cfg": false
  }
 },
 "nbformat": 4,
 "nbformat_minor": 4
}
