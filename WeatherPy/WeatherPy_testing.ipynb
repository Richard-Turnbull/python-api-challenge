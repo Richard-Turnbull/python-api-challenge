{
 "cells": [
  {
   "cell_type": "markdown",
   "metadata": {},
   "source": [
    "# WeatherPy\n",
    "----\n",
    "\n",
    "#### Note\n",
    "* Instructions have been included for each segment. You do not have to follow them exactly, but they are included to help you think through the steps."
   ]
  },
  {
   "cell_type": "code",
   "execution_count": 61,
   "metadata": {},
   "outputs": [],
   "source": [
    "#--------------------------------------------------\n",
    "# DEPENDANCIES\n",
    "#--------------------------------------------------\n",
    "import json\n",
    "import requests\n",
    "import pandas as pd\n",
    "from api_keys import weather_api_key\n",
    "import numpy as np"
   ]
  },
  {
   "cell_type": "code",
   "execution_count": 54,
   "metadata": {},
   "outputs": [],
   "source": [
    "#--------------------------------------------------\n",
    "# LIST OF 500 CITIES\n",
    "#--------------------------------------------------\n",
    "cities = ['Perth', 'New York', 'Rome', 'Oslo']"
   ]
  },
  {
   "cell_type": "code",
   "execution_count": null,
   "metadata": {},
   "outputs": [],
   "source": [
    "#--------------------------------------------------\n",
    "# GENERATE RANDOM LIST OF 500 CITIES\n",
    "#--------------------------------------------------\n",
    "\n",
    "# generate random latitude and longitude numbers\n",
    "random_lat = np.random.uniform(-90, 90, 1000)\n",
    "random_lon = np.random.uniform(-180, 180, 1000)\n",
    "\n",
    "# sign up to citypy\n",
    "# Input the 1000 randomly generated lat and long to citypy to collect ~400-600 city names.  Use Exceptions. Once working replace the \"cities list in code block above\"\n",
    "# Use the city names to extract lat and long details using openweatherapi (already doing this in 2 code blocks below)\n",
    "# \n"
   ]
  },
  {
   "cell_type": "code",
   "execution_count": 55,
   "metadata": {},
   "outputs": [],
   "source": [
    "# Save config information.\n",
    "url = \"http://api.openweathermap.org/data/2.5/weather?\"\n",
    "units = \"metric\"\n",
    "\n",
    "# Build partial query URL\n",
    "query_url = f\"{url}appid={weather_api_key}&units={units}&q=\""
   ]
  },
  {
   "cell_type": "code",
   "execution_count": 56,
   "metadata": {},
   "outputs": [
    {
     "name": "stdout",
     "output_type": "stream",
     "text": [
      "The latitude information received is: [-31.9333, 40.7143, 34.257, 59.9127]\n",
      "The longitude information received is: [115.8333, -74.006, -85.1647, 10.7461]\n"
     ]
    }
   ],
   "source": [
    "# set up lists to hold reponse info\n",
    "lat = []\n",
    "long = []\n",
    "\n",
    "\n",
    "# Loop through the list of cities and perform a request for data on each\n",
    "for city in cities:\n",
    "    response = requests.get(query_url + city).json()\n",
    "    lat.append(response['coord']['lat'])\n",
    "    long.append(response['coord']['lon'])\n",
    "\n",
    "print(f\"The latitude information received is: {lat}\")\n",
    "print(f\"The longitude information received is: {long}\")"
   ]
  },
  {
   "cell_type": "code",
   "execution_count": 57,
   "metadata": {},
   "outputs": [],
   "source": [
    "#--------------------------------------------------\n",
    "# CREATE REQUIRED EMPTY LISTS\n",
    "#--------------------------------------------------\n",
    "temparature_list = []\n",
    "humidity_list = []\n",
    "cloudiness_list = []\n",
    "wind_speed_list = []"
   ]
  },
  {
   "cell_type": "code",
   "execution_count": 58,
   "metadata": {},
   "outputs": [],
   "source": [
    "#--------------------------------------------------\n",
    "# SET URL FOR API\n",
    "#--------------------------------------------------\n",
    "\n",
    "# Set base URL\n",
    "base_url = 'http://api.openweathermap.org/geo/1.0/direct?q='\n",
    "\n",
    "base_url = 'https://api.openweathermap.org/data/2.5/weather?&appid='\n",
    "\n",
    "# lat={lat}&lon={lon}\n",
    "# base_url\n",
    "\n"
   ]
  },
  {
   "cell_type": "code",
   "execution_count": 60,
   "metadata": {},
   "outputs": [
    {
     "name": "stdout",
     "output_type": "stream",
     "text": [
      "{\n",
      "  \"coord\": {\n",
      "    \"lon\": 115.8333,\n",
      "    \"lat\": -31.9333\n",
      "  },\n",
      "  \"weather\": [\n",
      "    {\n",
      "      \"id\": 800,\n",
      "      \"main\": \"Clear\",\n",
      "      \"description\": \"clear sky\",\n",
      "      \"icon\": \"01n\"\n",
      "    }\n",
      "  ],\n",
      "  \"base\": \"stations\",\n",
      "  \"main\": {\n",
      "    \"temp\": 289.48,\n",
      "    \"feels_like\": 289.07,\n",
      "    \"temp_min\": 288.15,\n",
      "    \"temp_max\": 290.19,\n",
      "    \"pressure\": 1023,\n",
      "    \"humidity\": 73\n",
      "  },\n",
      "  \"visibility\": 10000,\n",
      "  \"wind\": {\n",
      "    \"speed\": 3.09,\n",
      "    \"deg\": 180\n",
      "  },\n",
      "  \"clouds\": {\n",
      "    \"all\": 0\n",
      "  },\n",
      "  \"dt\": 1650290039,\n",
      "  \"sys\": {\n",
      "    \"type\": 2,\n",
      "    \"id\": 63154,\n",
      "    \"country\": \"AU\",\n",
      "    \"sunrise\": 1650235136,\n",
      "    \"sunset\": 1650275572\n",
      "  },\n",
      "  \"timezone\": 28800,\n",
      "  \"id\": 2063523,\n",
      "  \"name\": \"Perth\",\n",
      "  \"cod\": 200\n",
      "}\n",
      "{\n",
      "  \"coord\": {\n",
      "    \"lon\": -74.006,\n",
      "    \"lat\": 40.7143\n",
      "  },\n",
      "  \"weather\": [\n",
      "    {\n",
      "      \"id\": 800,\n",
      "      \"main\": \"Clear\",\n",
      "      \"description\": \"clear sky\",\n",
      "      \"icon\": \"01d\"\n",
      "    }\n",
      "  ],\n",
      "  \"base\": \"stations\",\n",
      "  \"main\": {\n",
      "    \"temp\": 282.58,\n",
      "    \"feels_like\": 280.4,\n",
      "    \"temp_min\": 280.9,\n",
      "    \"temp_max\": 283.87,\n",
      "    \"pressure\": 1028,\n",
      "    \"humidity\": 44\n",
      "  },\n",
      "  \"visibility\": 10000,\n",
      "  \"wind\": {\n",
      "    \"speed\": 4.12,\n",
      "    \"deg\": 30\n",
      "  },\n",
      "  \"clouds\": {\n",
      "    \"all\": 0\n",
      "  },\n",
      "  \"dt\": 1650290113,\n",
      "  \"sys\": {\n",
      "    \"type\": 1,\n",
      "    \"id\": 4610,\n",
      "    \"country\": \"US\",\n",
      "    \"sunrise\": 1650276751,\n",
      "    \"sunset\": 1650325065\n",
      "  },\n",
      "  \"timezone\": -14400,\n",
      "  \"id\": 5128581,\n",
      "  \"name\": \"New York\",\n",
      "  \"cod\": 200\n",
      "}\n",
      "{\n",
      "  \"coord\": {\n",
      "    \"lon\": -85.1647,\n",
      "    \"lat\": 34.257\n",
      "  },\n",
      "  \"weather\": [\n",
      "    {\n",
      "      \"id\": 804,\n",
      "      \"main\": \"Clouds\",\n",
      "      \"description\": \"overcast clouds\",\n",
      "      \"icon\": \"04d\"\n",
      "    }\n",
      "  ],\n",
      "  \"base\": \"stations\",\n",
      "  \"main\": {\n",
      "    \"temp\": 290.8,\n",
      "    \"feels_like\": 291,\n",
      "    \"temp_min\": 290.03,\n",
      "    \"temp_max\": 292.13,\n",
      "    \"pressure\": 1014,\n",
      "    \"humidity\": 91\n",
      "  },\n",
      "  \"visibility\": 10000,\n",
      "  \"wind\": {\n",
      "    \"speed\": 4.12,\n",
      "    \"deg\": 270\n",
      "  },\n",
      "  \"clouds\": {\n",
      "    \"all\": 100\n",
      "  },\n",
      "  \"dt\": 1650290221,\n",
      "  \"sys\": {\n",
      "    \"type\": 2,\n",
      "    \"id\": 2038061,\n",
      "    \"country\": \"US\",\n",
      "    \"sunrise\": 1650279931,\n",
      "    \"sunset\": 1650327241\n",
      "  },\n",
      "  \"timezone\": -14400,\n",
      "  \"id\": 4219762,\n",
      "  \"name\": \"Rome\",\n",
      "  \"cod\": 200\n",
      "}\n",
      "{\n",
      "  \"coord\": {\n",
      "    \"lon\": 10.7461,\n",
      "    \"lat\": 59.9127\n",
      "  },\n",
      "  \"weather\": [\n",
      "    {\n",
      "      \"id\": 802,\n",
      "      \"main\": \"Clouds\",\n",
      "      \"description\": \"scattered clouds\",\n",
      "      \"icon\": \"03d\"\n",
      "    }\n",
      "  ],\n",
      "  \"base\": \"stations\",\n",
      "  \"main\": {\n",
      "    \"temp\": 287.88,\n",
      "    \"feels_like\": 286.56,\n",
      "    \"temp_min\": 285.64,\n",
      "    \"temp_max\": 289.87,\n",
      "    \"pressure\": 998,\n",
      "    \"humidity\": 44\n",
      "  },\n",
      "  \"visibility\": 10000,\n",
      "  \"wind\": {\n",
      "    \"speed\": 0.45,\n",
      "    \"deg\": 180,\n",
      "    \"gust\": 0.89\n",
      "  },\n",
      "  \"clouds\": {\n",
      "    \"all\": 31\n",
      "  },\n",
      "  \"dt\": 1650290222,\n",
      "  \"sys\": {\n",
      "    \"type\": 2,\n",
      "    \"id\": 2009047,\n",
      "    \"country\": \"NO\",\n",
      "    \"sunrise\": 1650253927,\n",
      "    \"sunset\": 1650307215\n",
      "  },\n",
      "  \"timezone\": 7200,\n",
      "  \"id\": 3143244,\n",
      "  \"name\": \"Oslo\",\n",
      "  \"cod\": 200\n",
      "}\n"
     ]
    }
   ],
   "source": [
    "# Loop through each character\n",
    "# for city in cities:\n",
    "for x,y in zip(lat, long):\n",
    "    # print(x, y)\n",
    "    \n",
    "    # Create search query, make request and store in json\n",
    "    query_url = f\"{base_url + weather_api_key}&lat={x}&lon={y}\"\n",
    "    # print(query_url)\n",
    "    \n",
    "    response = requests.get(query_url)\n",
    "    response_json = response.json()\n",
    "    \n",
    "    # temparature_list.append(response['coord']['lat'])\n",
    "    # humidity_list.append(response['main']['temp'])    \n",
    "    \n",
    "    print(json.dumps(response_json, indent=2))\n",
    "# response_json"
   ]
  },
  {
   "cell_type": "code",
   "execution_count": 34,
   "metadata": {},
   "outputs": [
    {
     "data": {
      "text/plain": [
       "[{'name': 'Oslo',\n",
       "  'local_names': {'is': 'Ósló',\n",
       "   'fa': 'اسلو',\n",
       "   'la': 'Asloa',\n",
       "   'uk': 'Осло',\n",
       "   'be': 'Осла',\n",
       "   'tt': 'Осло',\n",
       "   'kk': 'Осло',\n",
       "   'no': 'Oslo',\n",
       "   'co': 'Oslu',\n",
       "   'hi': 'ओस्लो',\n",
       "   'mk': 'Осло',\n",
       "   'hy': 'Օսլո',\n",
       "   'pl': 'Oslo',\n",
       "   'bo': 'ཨོ་སི་ལོ།',\n",
       "   'en': 'Oslo',\n",
       "   'ps': 'اوسلو',\n",
       "   'pt': 'Oslo',\n",
       "   'ga': 'Osló',\n",
       "   'ar': 'أوسلو',\n",
       "   'ka': 'ოსლო',\n",
       "   'sr': 'Осло',\n",
       "   'hu': 'Oslo',\n",
       "   'el': 'Όσλο',\n",
       "   'tg': 'Осло',\n",
       "   'lt': 'Oslas',\n",
       "   'de': 'Oslo',\n",
       "   'ky': 'Осло',\n",
       "   'ug': 'ئوسلو',\n",
       "   'ca': 'Oslo',\n",
       "   'es': 'Oslo',\n",
       "   'nn': 'Oslo',\n",
       "   'th': 'ออสโล',\n",
       "   'eo': 'Oslo',\n",
       "   'ur': 'اوسلو',\n",
       "   'ta': 'ஒஸ்லோ',\n",
       "   'it': 'Oslo',\n",
       "   'ku': 'Oslo',\n",
       "   'am': 'ኦስሎ',\n",
       "   'ja': 'オスロ',\n",
       "   'mi': 'Ōhoro',\n",
       "   'he': 'אוסלו',\n",
       "   'my': 'အော့စလိုမြို့',\n",
       "   'ne': 'ओस्लो',\n",
       "   'ru': 'Осло',\n",
       "   'fr': 'Oslo',\n",
       "   'kv': 'Осло',\n",
       "   'ml': 'ഓസ്ലൊ',\n",
       "   'oc': 'Òslo',\n",
       "   'zh': '奧斯陸',\n",
       "   'mr': 'ओस्लो',\n",
       "   'sv': 'Oslo',\n",
       "   'ko': '오슬로',\n",
       "   'bg': 'Осло',\n",
       "   'cv': 'Осло',\n",
       "   'os': 'Осло'},\n",
       "  'lat': 59.9133301,\n",
       "  'lon': 10.7389701,\n",
       "  'country': 'NO'},\n",
       " {'name': 'Oslo',\n",
       "  'lat': 48.1951323,\n",
       "  'lon': -97.131159,\n",
       "  'country': 'US',\n",
       "  'state': 'Minnesota'},\n",
       " {'name': 'Oslo',\n",
       "  'local_names': {'ru': 'Осло'},\n",
       "  'lat': 59.97239745,\n",
       "  'lon': 10.775729194051895,\n",
       "  'country': 'NO'},\n",
       " {'name': 'Oslo',\n",
       "  'lat': 43.8921855,\n",
       "  'lon': -92.7385186,\n",
       "  'country': 'US',\n",
       "  'state': 'Minnesota'},\n",
       " {'name': 'Oslo',\n",
       "  'local_names': {'ar': 'أوسلو', 'de': 'Oslo', 'en': 'Oslo'},\n",
       "  'lat': 25.2289679,\n",
       "  'lon': 55.15787307408016,\n",
       "  'country': 'AE',\n",
       "  'state': 'Dubai'}]"
      ]
     },
     "execution_count": 34,
     "metadata": {},
     "output_type": "execute_result"
    }
   ],
   "source": [
    "# Loop through each character\n",
    "for city in cities:\n",
    "    \n",
    "    # Create search query, make request and store in json\n",
    "    query_url = f\"{base_url + city}&limit=5&appid={weather_api_key}\"\n",
    "    response = requests.get(query_url)\n",
    "    response_json = response.json()\n",
    "    \n",
    "    # temparature_list.append(response['coord']['lat'])\n",
    "    # humidity_list.append(response['main']['temp'])    \n",
    "    \n",
    "    #print(response_json)\n",
    "response_json"
   ]
  },
  {
   "cell_type": "code",
   "execution_count": null,
   "metadata": {},
   "outputs": [],
   "source": []
  },
  {
   "cell_type": "code",
   "execution_count": null,
   "metadata": {},
   "outputs": [],
   "source": []
  },
  {
   "cell_type": "code",
   "execution_count": null,
   "metadata": {},
   "outputs": [],
   "source": []
  },
  {
   "cell_type": "markdown",
   "metadata": {},
   "source": [
    "## Generate Cities List"
   ]
  },
  {
   "cell_type": "code",
   "execution_count": null,
   "metadata": {},
   "outputs": [],
   "source": []
  },
  {
   "cell_type": "markdown",
   "metadata": {},
   "source": [
    "### Perform API Calls\n",
    "* Perform a weather check on each city using a series of successive API calls.\n",
    "* Include a print log of each city as it'sbeing processed (with the city number and city name).\n"
   ]
  },
  {
   "cell_type": "code",
   "execution_count": null,
   "metadata": {
    "scrolled": true
   },
   "outputs": [],
   "source": []
  },
  {
   "cell_type": "markdown",
   "metadata": {},
   "source": [
    "### Convert Raw Data to DataFrame\n",
    "* Export the city data into a .csv.\n",
    "* Display the DataFrame"
   ]
  },
  {
   "cell_type": "code",
   "execution_count": null,
   "metadata": {},
   "outputs": [],
   "source": []
  },
  {
   "cell_type": "code",
   "execution_count": null,
   "metadata": {},
   "outputs": [],
   "source": []
  },
  {
   "cell_type": "markdown",
   "metadata": {},
   "source": [
    "## Inspect the data and remove the cities where the humidity > 100%.\n",
    "----\n",
    "Skip this step if there are no cities that have humidity > 100%. "
   ]
  },
  {
   "cell_type": "code",
   "execution_count": null,
   "metadata": {},
   "outputs": [],
   "source": []
  },
  {
   "cell_type": "code",
   "execution_count": null,
   "metadata": {},
   "outputs": [],
   "source": [
    "#  Get the indices of cities that have humidity over 100%.\n"
   ]
  },
  {
   "cell_type": "code",
   "execution_count": null,
   "metadata": {},
   "outputs": [],
   "source": [
    "# Make a new DataFrame equal to the city data to drop all humidity outliers by index.\n",
    "# Passing \"inplace=False\" will make a copy of the city_data DataFrame, which we call \"clean_city_data\".\n"
   ]
  },
  {
   "cell_type": "code",
   "execution_count": null,
   "metadata": {},
   "outputs": [],
   "source": [
    "\n"
   ]
  },
  {
   "cell_type": "markdown",
   "metadata": {},
   "source": [
    "## Plotting the Data\n",
    "* Use proper labeling of the plots using plot titles (including date of analysis) and axes labels.\n",
    "* Save the plotted figures as .pngs."
   ]
  },
  {
   "cell_type": "markdown",
   "metadata": {},
   "source": [
    "## Latitude vs. Temperature Plot"
   ]
  },
  {
   "cell_type": "code",
   "execution_count": null,
   "metadata": {
    "scrolled": true
   },
   "outputs": [],
   "source": []
  },
  {
   "cell_type": "markdown",
   "metadata": {},
   "source": [
    "## Latitude vs. Humidity Plot"
   ]
  },
  {
   "cell_type": "code",
   "execution_count": null,
   "metadata": {},
   "outputs": [],
   "source": []
  },
  {
   "cell_type": "markdown",
   "metadata": {},
   "source": [
    "## Latitude vs. Cloudiness Plot"
   ]
  },
  {
   "cell_type": "code",
   "execution_count": null,
   "metadata": {},
   "outputs": [],
   "source": []
  },
  {
   "cell_type": "markdown",
   "metadata": {},
   "source": [
    "## Latitude vs. Wind Speed Plot"
   ]
  },
  {
   "cell_type": "code",
   "execution_count": null,
   "metadata": {},
   "outputs": [],
   "source": []
  },
  {
   "cell_type": "markdown",
   "metadata": {},
   "source": [
    "## Linear Regression"
   ]
  },
  {
   "cell_type": "code",
   "execution_count": null,
   "metadata": {},
   "outputs": [],
   "source": []
  },
  {
   "cell_type": "markdown",
   "metadata": {},
   "source": [
    "####  Northern Hemisphere - Max Temp vs. Latitude Linear Regression"
   ]
  },
  {
   "cell_type": "code",
   "execution_count": null,
   "metadata": {},
   "outputs": [],
   "source": []
  },
  {
   "cell_type": "markdown",
   "metadata": {},
   "source": [
    "####  Southern Hemisphere - Max Temp vs. Latitude Linear Regression"
   ]
  },
  {
   "cell_type": "code",
   "execution_count": null,
   "metadata": {},
   "outputs": [],
   "source": []
  },
  {
   "cell_type": "markdown",
   "metadata": {},
   "source": [
    "####  Northern Hemisphere - Humidity (%) vs. Latitude Linear Regression"
   ]
  },
  {
   "cell_type": "code",
   "execution_count": null,
   "metadata": {},
   "outputs": [],
   "source": []
  },
  {
   "cell_type": "markdown",
   "metadata": {},
   "source": [
    "####  Southern Hemisphere - Humidity (%) vs. Latitude Linear Regression"
   ]
  },
  {
   "cell_type": "code",
   "execution_count": null,
   "metadata": {},
   "outputs": [],
   "source": []
  },
  {
   "cell_type": "markdown",
   "metadata": {},
   "source": [
    "####  Northern Hemisphere - Cloudiness (%) vs. Latitude Linear Regression"
   ]
  },
  {
   "cell_type": "code",
   "execution_count": null,
   "metadata": {},
   "outputs": [],
   "source": []
  },
  {
   "cell_type": "markdown",
   "metadata": {},
   "source": [
    "####  Southern Hemisphere - Cloudiness (%) vs. Latitude Linear Regression"
   ]
  },
  {
   "cell_type": "code",
   "execution_count": null,
   "metadata": {},
   "outputs": [],
   "source": []
  },
  {
   "cell_type": "markdown",
   "metadata": {},
   "source": [
    "####  Northern Hemisphere - Wind Speed (mph) vs. Latitude Linear Regression"
   ]
  },
  {
   "cell_type": "code",
   "execution_count": null,
   "metadata": {},
   "outputs": [],
   "source": []
  },
  {
   "cell_type": "markdown",
   "metadata": {},
   "source": [
    "####  Southern Hemisphere - Wind Speed (mph) vs. Latitude Linear Regression"
   ]
  },
  {
   "cell_type": "code",
   "execution_count": null,
   "metadata": {},
   "outputs": [],
   "source": []
  },
  {
   "cell_type": "code",
   "execution_count": null,
   "metadata": {},
   "outputs": [],
   "source": []
  }
 ],
 "metadata": {
  "anaconda-cloud": {},
  "kernel_info": {
   "name": "python3"
  },
  "kernelspec": {
   "display_name": "Python 3",
   "language": "python",
   "name": "python3"
  },
  "language_info": {
   "codemirror_mode": {
    "name": "ipython",
    "version": 3
   },
   "file_extension": ".py",
   "mimetype": "text/x-python",
   "name": "python",
   "nbconvert_exporter": "python",
   "pygments_lexer": "ipython3",
   "version": "3.9.7"
  },
  "latex_envs": {
   "LaTeX_envs_menu_present": true,
   "autoclose": false,
   "autocomplete": true,
   "bibliofile": "biblio.bib",
   "cite_by": "apalike",
   "current_citInitial": 1,
   "eqLabelWithNumbers": true,
   "eqNumInitial": 1,
   "hotkeys": {
    "equation": "Ctrl-E",
    "itemize": "Ctrl-I"
   },
   "labels_anchors": false,
   "latex_user_defs": false,
   "report_style_numbering": false,
   "user_envs_cfg": false
  },
  "nteract": {
   "version": "0.12.3"
  }
 },
 "nbformat": 4,
 "nbformat_minor": 2
}
