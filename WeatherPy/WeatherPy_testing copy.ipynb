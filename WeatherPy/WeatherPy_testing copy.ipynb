{
 "cells": [
  {
   "cell_type": "markdown",
   "metadata": {},
   "source": [
    "# WeatherPy\n",
    "----\n",
    "\n",
    "#### Note\n",
    "* Instructions have been included for each segment. You do not have to follow them exactly, but they are included to help you think through the steps."
   ]
  },
  {
   "cell_type": "code",
   "execution_count": 1,
   "metadata": {},
   "outputs": [],
   "source": [
    "#--------------------------------------------------\n",
    "# DEPENDANCIES\n",
    "#--------------------------------------------------\n",
    "import json\n",
    "import requests\n",
    "import pandas as pd\n",
    "from api_keys import weather_api_key\n",
    "import numpy as np"
   ]
  },
  {
   "cell_type": "code",
   "execution_count": 25,
   "metadata": {},
   "outputs": [],
   "source": [
    "#--------------------------------------------------\n",
    "# GENERATE LIST OF 500 CITIES\n",
    "#--------------------------------------------------\n",
    "cities = ['Perth', 'New York', 'Rome', 'Oslo']"
   ]
  },
  {
   "cell_type": "code",
   "execution_count": 26,
   "metadata": {},
   "outputs": [],
   "source": [
    "#--------------------------------------------------\n",
    "# CREATE REQUIRED EMPTY LISTS\n",
    "#--------------------------------------------------\n",
    "temparature_list = []\n",
    "humidity_list = []\n",
    "cloudiness_list = []\n",
    "wind_speed_list = []"
   ]
  },
  {
   "cell_type": "code",
   "execution_count": 27,
   "metadata": {},
   "outputs": [],
   "source": [
    "#--------------------------------------------------\n",
    "# SET URL FOR API\n",
    "#--------------------------------------------------\n",
    "\n",
    "# Set base URL\n",
    "base_url = 'http://api.openweathermap.org/geo/1.0/direct?q='\n",
    "\n",
    "# # Geocoding URL\n",
    "# url1 = 'http://api.openweathermap.org/geo/1.0/direct?q=Perth,Western Australia,AU&limit=1&appid=8901ded7356ea26ab42fa433dad6d28f'\n",
    "\n",
    "# # Current Weather API\n",
    "# url2 = 'https://api.openweathermap.org/data/2.5/weather?lat=-31.9527121&lon=115.8604796&appid=8901ded7356ea26ab42fa433dad6d28f'\n"
   ]
  },
  {
   "cell_type": "code",
   "execution_count": 29,
   "metadata": {},
   "outputs": [
    {
     "name": "stdout",
     "output_type": "stream",
     "text": [
      "[{'name': 'Perth', 'local_names': {'ar': 'بيرث', 'uk': 'Перт', 'he': 'פרת', 'sr': 'Перт', 'hi': 'पर्थ', 'de': 'Perth', 'ja': 'パース', 'ru': 'Перт', 'oc': 'Perth', 'kn': 'ಪರ್ತ್', 'mk': 'Перт', 'es': 'Perth', 'is': 'Perth', 'sv': 'Perth', 'eo': 'Perto', 'lt': 'Pertas', 'pl': 'Perth', 'pt': 'Perth', 'en': 'Perth', 'zh': '珀斯', 'fr': 'Perth'}, 'lat': -31.9527121, 'lon': 115.8604796, 'country': 'AU', 'state': 'Western Australia'}, {'name': 'Perth', 'local_names': {'ru': 'Перт', 'lt': 'Pertas', 'sr': 'Перт', 'hu': 'Perth', 'gd': 'Peairt', 'ko': '퍼스', 'uk': 'Перт', 'en': 'Perth', 'de': 'Perth', 'mk': 'Перт'}, 'lat': 56.3957679, 'lon': -3.4335463, 'country': 'GB', 'state': 'Scotland'}, {'name': 'Perth', 'lat': 44.8992423, 'lon': -76.2487294, 'country': 'CA', 'state': 'Ontario'}, {'name': 'Perth', 'local_names': {'en': 'Perth', 'zh': '珀斯'}, 'lat': 48.7163932, 'lon': -99.4579209, 'country': 'US', 'state': 'North Dakota'}, {'name': 'Perth', 'lat': -31.954800499999997, 'lon': 115.85837364402198, 'country': 'AU', 'state': 'Western Australia'}]\n",
      "[{'name': 'New York', 'local_names': {'ta': 'நியூ யோர்க்', 'vi': 'New York', 'de': 'New York', 'ja': 'ニューヨーク', 'pl': 'Nowy Jork', 'uk': 'Нью-Йорк', 'ko': '뉴욕', 'is': 'Nýja Jórvík', 'el': 'Νέα Υόρκη', 'gl': 'Nova York', 'mi': 'Niu Iaka', 'oc': 'Nòva York', 'it': 'New York', 'hi': 'न्यूयॊर्क्', 'kn': 'ನ್ಯೂಯೊರ್ಕ್', 'ca': 'Nova York', 'fa': 'نیویورک', 'be': 'Нью-Ёрк', 'en': 'New York', 'te': 'న్యూయొర్క్', 'cs': 'New York', 'cy': 'Efrog Newydd', 'pt': 'Nova Iorque', 'eo': 'Novjorko', 'zh': '纽约', 'ar': 'نيويورك', 'ru': 'Нью-Йорк', 'fr': 'New York', 'he': 'ניו יורק', 'es': 'Nueva York'}, 'lat': 40.7127281, 'lon': -74.0060152, 'country': 'US', 'state': 'New York'}, {'name': 'New York', 'local_names': {'en': 'New York', 'ta': 'நியூ யோர்க்'}, 'lat': 55.0252998, 'lon': -1.4869496, 'country': 'GB', 'state': 'England'}, {'name': 'New York', 'local_names': {'en': 'New York', 'ta': 'நியூ யோர்க்'}, 'lat': 39.6852874, 'lon': -93.9268836, 'country': 'US', 'state': 'Missouri'}, {'name': 'New York', 'lat': 7.9631123, 'lon': -11.7636869, 'country': 'SL', 'state': 'Bo District'}, {'name': 'New York', 'local_names': {'en': 'New York', 'ta': 'நியூ யோர்க்'}, 'lat': 32.1679321, 'lon': -95.6691277, 'country': 'US', 'state': 'Texas'}]\n",
      "[{'name': 'Rome', 'local_names': {'kn': 'ರೋಮ', 'he': 'רומא', 'mg': 'Roma', 'bn': 'রোম', 'ku': 'Roma', 'ur': 'روم', 'es': 'Roma', 'da': 'Rom', 'sd': 'روم', 'mn': 'Ром', 'ta': 'உரோமை நகரம்', 'be': 'Рым', 'ty': 'Roma', 'ca': 'Roma', 'id': 'Roma', 'vi': 'Rô-ma', 'pl': 'Rzym', 'ka': 'რომი', 'is': 'Róm', 'rn': 'Roma', 'rw': 'Roma', 'ht': 'Ròm', 'fo': 'Róm', 'nn': 'Roma', 'so': 'Roma', 'gn': 'Róma', 'ee': 'Rome', 'ne': 'रोम', 'os': 'Ром', 'hy': 'Հռոմ', 'gd': 'An Ròimh', 'sh': 'Rim', 'sk': 'Rím', 'qu': 'Roma', 'ro': 'Roma', 'it': 'Roma', 'sa': 'रोमा', 'el': 'Ρώμη', 'bi': 'Rome', 'kv': 'Рим', 'gl': 'Roma', 'tl': 'Roma', 'oc': 'Roma', 'af': 'Rome', 'tk': 'Rim', 'my': 'ရောမမြို့', 'gv': 'Yn Raue', 'sv': 'Rom', 'jv': 'Roma', 'mi': 'Rōma', 'vo': 'Roma', 'hi': 'रोम', 'su': 'Roma', 'cy': 'Rhufain', 'ug': 'رىم', 'fa': 'رم', 'en': 'Rome', 'mk': 'Рим', 'fi': 'Rooma', 'lt': 'Roma', 'co': 'Roma', 'br': 'Roma', 'ru': 'Рим', 'yo': 'Rómù', 'yi': 'רוים', 'de': 'Rom', 'tt': 'Рим', 'mr': 'रोम', 'tg': 'Рим', 'ia': 'Roma', 'bg': 'Рим', 'sr': 'Рим', 'se': 'Roma', 'fr': 'Rome', 'am': 'ሮማ', 'ko': '로마', 'ks': 'روم', 'cr': 'ᖌᒪ', 'cs': 'Řím', 'na': 'Roma', 'kk': 'Рим', 'sg': 'Rome', 'sq': 'Roma', 'eu': 'Erroma', 'ay': 'Roma', 'ar': 'روما', 'eo': 'Romo', 'la': 'Roma', 'fy': 'Rome', 'uk': 'Рим', 'hr': 'Rim', 'si': 'රෝමය', 'th': 'โรม', 'ml': 'റോം', 'cv': 'Рим', 'nl': 'Rome', 'ie': 'Roma', 'cu': 'Римъ', 'li': 'Roeme', 'bo': 'རོ་མ།', 'ln': 'Roma', 'an': 'Roma', 'sl': 'Rim', 'et': 'Rooma', 'tr': 'Roma', 'zh': '羅馬', 'io': 'Roma', 'hu': 'Róma', 'sw': 'Roma', 'bs': 'Rim', 'rm': 'Roma', 'ja': 'ローマ', 'lv': 'Roma', 'ga': 'An Róimh', 'mt': 'Ruma', 'az': 'Roma', 'kl': 'Roma', 'ba': 'Рим', 'lb': 'Roum', 'uz': 'Rim', 'sc': 'Roma', 'pt': 'Roma', 'te': 'రోమ్', 'no': 'Roma'}, 'lat': 41.8933203, 'lon': 12.4829321, 'country': 'IT', 'state': 'Lazio'}, {'name': 'Rome', 'lat': 43.2128473, 'lon': -75.4557304, 'country': 'US', 'state': 'New York'}, {'name': 'Rome', 'lat': 34.257038, 'lon': -85.1646726, 'country': 'US', 'state': 'Georgia'}, {'name': 'Lomé', 'local_names': {'la': 'Lome', 'ps': 'لوم', 'mr': 'लोमे', 'fa': 'لومه', 'es': 'Lomé', 'so': 'Lome', 'fr': 'Lomé', 'he': 'לומה', 'eu': 'Lome', 'uk': 'Ломе', 'sv': 'Lomé', 'is': 'Lomé', 'ru': 'Ломе', 'el': 'Λομέ', 'ja': 'ロメ', 'eo': 'Lomeo', 'fy': 'Lomee', 'sr': 'Ломе', 'pl': 'Lomé', 'am': 'ሎሜ', 'ur': 'لومے', 'hy': 'Լոմե', 'th': 'โลเม', 'ar': 'لومي', 'hu': 'Lomé', 'lv': 'Lome', 'az': 'Lome', 'ka': 'ლომე', 'lt': 'Lomė', 'tg': 'Ломе', 'ta': 'லோமே', 'zh': '洛美', 'mk': 'Ломе', 'be': 'Ламэ', 'en': 'Lomé', 'de': 'Lomé', 'bg': 'Ломе', 'ko': '로메', 'ug': 'لومې', 'ht': 'Lomé', 'io': 'Lome', 'oc': 'Lomé', 'ky': 'Ломе', 'sw': 'Lome', 'bo': 'ལཱོ་མེ།'}, 'lat': 6.130419, 'lon': 1.215829, 'country': 'TG'}, {'name': 'Rome', 'lat': 40.9814147, 'lon': -91.682387, 'country': 'US', 'state': 'Iowa'}]\n",
      "[{'name': 'Oslo', 'local_names': {'is': 'Ósló', 'fa': 'اسلو', 'la': 'Asloa', 'uk': 'Осло', 'be': 'Осла', 'tt': 'Осло', 'kk': 'Осло', 'no': 'Oslo', 'co': 'Oslu', 'hi': 'ओस्लो', 'mk': 'Осло', 'hy': 'Օսլո', 'pl': 'Oslo', 'bo': 'ཨོ་སི་ལོ།', 'en': 'Oslo', 'ps': 'اوسلو', 'pt': 'Oslo', 'ga': 'Osló', 'ar': 'أوسلو', 'ka': 'ოსლო', 'sr': 'Осло', 'hu': 'Oslo', 'el': 'Όσλο', 'tg': 'Осло', 'lt': 'Oslas', 'de': 'Oslo', 'ky': 'Осло', 'ug': 'ئوسلو', 'ca': 'Oslo', 'es': 'Oslo', 'nn': 'Oslo', 'th': 'ออสโล', 'eo': 'Oslo', 'ur': 'اوسلو', 'ta': 'ஒஸ்லோ', 'it': 'Oslo', 'ku': 'Oslo', 'am': 'ኦስሎ', 'ja': 'オスロ', 'mi': 'Ōhoro', 'he': 'אוסלו', 'my': 'အော့စလိုမြို့', 'ne': 'ओस्लो', 'ru': 'Осло', 'fr': 'Oslo', 'kv': 'Осло', 'ml': 'ഓസ്ലൊ', 'oc': 'Òslo', 'zh': '奧斯陸', 'mr': 'ओस्लो', 'sv': 'Oslo', 'ko': '오슬로', 'bg': 'Осло', 'cv': 'Осло', 'os': 'Осло'}, 'lat': 59.9133301, 'lon': 10.7389701, 'country': 'NO'}, {'name': 'Oslo', 'lat': 48.1951323, 'lon': -97.131159, 'country': 'US', 'state': 'Minnesota'}, {'name': 'Oslo', 'local_names': {'ru': 'Осло'}, 'lat': 59.97239745, 'lon': 10.775729194051895, 'country': 'NO'}, {'name': 'Oslo', 'lat': 43.8921855, 'lon': -92.7385186, 'country': 'US', 'state': 'Minnesota'}, {'name': 'Oslo', 'local_names': {'ar': 'أوسلو', 'de': 'Oslo', 'en': 'Oslo'}, 'lat': 25.2289679, 'lon': 55.15787307408016, 'country': 'AE', 'state': 'Dubai'}]\n"
     ]
    }
   ],
   "source": [
    "# Loop through each character\n",
    "for city in cities:\n",
    "    \n",
    "    # Create search query, make request and store in json\n",
    "    query_url = f\"{base_url + city}&limit=5&appid={weather_api_key}\"\n",
    "    response = requests.get(query_url)\n",
    "    response_json = response.json()\n",
    "    print(response_json)\n"
   ]
  },
  {
   "cell_type": "code",
   "execution_count": null,
   "metadata": {},
   "outputs": [],
   "source": []
  },
  {
   "cell_type": "code",
   "execution_count": null,
   "metadata": {},
   "outputs": [],
   "source": []
  },
  {
   "cell_type": "code",
   "execution_count": null,
   "metadata": {},
   "outputs": [],
   "source": []
  },
  {
   "cell_type": "markdown",
   "metadata": {},
   "source": [
    "## Generate Cities List"
   ]
  },
  {
   "cell_type": "code",
   "execution_count": null,
   "metadata": {},
   "outputs": [],
   "source": []
  },
  {
   "cell_type": "markdown",
   "metadata": {},
   "source": [
    "### Perform API Calls\n",
    "* Perform a weather check on each city using a series of successive API calls.\n",
    "* Include a print log of each city as it'sbeing processed (with the city number and city name).\n"
   ]
  },
  {
   "cell_type": "code",
   "execution_count": null,
   "metadata": {
    "scrolled": true
   },
   "outputs": [],
   "source": []
  },
  {
   "cell_type": "markdown",
   "metadata": {},
   "source": [
    "### Convert Raw Data to DataFrame\n",
    "* Export the city data into a .csv.\n",
    "* Display the DataFrame"
   ]
  },
  {
   "cell_type": "code",
   "execution_count": null,
   "metadata": {},
   "outputs": [],
   "source": []
  },
  {
   "cell_type": "code",
   "execution_count": null,
   "metadata": {},
   "outputs": [],
   "source": []
  },
  {
   "cell_type": "markdown",
   "metadata": {},
   "source": [
    "## Inspect the data and remove the cities where the humidity > 100%.\n",
    "----\n",
    "Skip this step if there are no cities that have humidity > 100%. "
   ]
  },
  {
   "cell_type": "code",
   "execution_count": null,
   "metadata": {},
   "outputs": [],
   "source": []
  },
  {
   "cell_type": "code",
   "execution_count": null,
   "metadata": {},
   "outputs": [],
   "source": [
    "#  Get the indices of cities that have humidity over 100%.\n"
   ]
  },
  {
   "cell_type": "code",
   "execution_count": null,
   "metadata": {},
   "outputs": [],
   "source": [
    "# Make a new DataFrame equal to the city data to drop all humidity outliers by index.\n",
    "# Passing \"inplace=False\" will make a copy of the city_data DataFrame, which we call \"clean_city_data\".\n"
   ]
  },
  {
   "cell_type": "code",
   "execution_count": null,
   "metadata": {},
   "outputs": [],
   "source": [
    "\n"
   ]
  },
  {
   "cell_type": "markdown",
   "metadata": {},
   "source": [
    "## Plotting the Data\n",
    "* Use proper labeling of the plots using plot titles (including date of analysis) and axes labels.\n",
    "* Save the plotted figures as .pngs."
   ]
  },
  {
   "cell_type": "markdown",
   "metadata": {},
   "source": [
    "## Latitude vs. Temperature Plot"
   ]
  },
  {
   "cell_type": "code",
   "execution_count": null,
   "metadata": {
    "scrolled": true
   },
   "outputs": [],
   "source": []
  },
  {
   "cell_type": "markdown",
   "metadata": {},
   "source": [
    "## Latitude vs. Humidity Plot"
   ]
  },
  {
   "cell_type": "code",
   "execution_count": null,
   "metadata": {},
   "outputs": [],
   "source": []
  },
  {
   "cell_type": "markdown",
   "metadata": {},
   "source": [
    "## Latitude vs. Cloudiness Plot"
   ]
  },
  {
   "cell_type": "code",
   "execution_count": null,
   "metadata": {},
   "outputs": [],
   "source": []
  },
  {
   "cell_type": "markdown",
   "metadata": {},
   "source": [
    "## Latitude vs. Wind Speed Plot"
   ]
  },
  {
   "cell_type": "code",
   "execution_count": null,
   "metadata": {},
   "outputs": [],
   "source": []
  },
  {
   "cell_type": "markdown",
   "metadata": {},
   "source": [
    "## Linear Regression"
   ]
  },
  {
   "cell_type": "code",
   "execution_count": null,
   "metadata": {},
   "outputs": [],
   "source": []
  },
  {
   "cell_type": "markdown",
   "metadata": {},
   "source": [
    "####  Northern Hemisphere - Max Temp vs. Latitude Linear Regression"
   ]
  },
  {
   "cell_type": "code",
   "execution_count": null,
   "metadata": {},
   "outputs": [],
   "source": []
  },
  {
   "cell_type": "markdown",
   "metadata": {},
   "source": [
    "####  Southern Hemisphere - Max Temp vs. Latitude Linear Regression"
   ]
  },
  {
   "cell_type": "code",
   "execution_count": null,
   "metadata": {},
   "outputs": [],
   "source": []
  },
  {
   "cell_type": "markdown",
   "metadata": {},
   "source": [
    "####  Northern Hemisphere - Humidity (%) vs. Latitude Linear Regression"
   ]
  },
  {
   "cell_type": "code",
   "execution_count": null,
   "metadata": {},
   "outputs": [],
   "source": []
  },
  {
   "cell_type": "markdown",
   "metadata": {},
   "source": [
    "####  Southern Hemisphere - Humidity (%) vs. Latitude Linear Regression"
   ]
  },
  {
   "cell_type": "code",
   "execution_count": null,
   "metadata": {},
   "outputs": [],
   "source": []
  },
  {
   "cell_type": "markdown",
   "metadata": {},
   "source": [
    "####  Northern Hemisphere - Cloudiness (%) vs. Latitude Linear Regression"
   ]
  },
  {
   "cell_type": "code",
   "execution_count": null,
   "metadata": {},
   "outputs": [],
   "source": []
  },
  {
   "cell_type": "markdown",
   "metadata": {},
   "source": [
    "####  Southern Hemisphere - Cloudiness (%) vs. Latitude Linear Regression"
   ]
  },
  {
   "cell_type": "code",
   "execution_count": null,
   "metadata": {},
   "outputs": [],
   "source": []
  },
  {
   "cell_type": "markdown",
   "metadata": {},
   "source": [
    "####  Northern Hemisphere - Wind Speed (mph) vs. Latitude Linear Regression"
   ]
  },
  {
   "cell_type": "code",
   "execution_count": null,
   "metadata": {},
   "outputs": [],
   "source": []
  },
  {
   "cell_type": "markdown",
   "metadata": {},
   "source": [
    "####  Southern Hemisphere - Wind Speed (mph) vs. Latitude Linear Regression"
   ]
  },
  {
   "cell_type": "code",
   "execution_count": null,
   "metadata": {},
   "outputs": [],
   "source": []
  },
  {
   "cell_type": "code",
   "execution_count": null,
   "metadata": {},
   "outputs": [],
   "source": []
  }
 ],
 "metadata": {
  "anaconda-cloud": {},
  "kernel_info": {
   "name": "python3"
  },
  "kernelspec": {
   "display_name": "Python 3",
   "language": "python",
   "name": "python3"
  },
  "language_info": {
   "codemirror_mode": {
    "name": "ipython",
    "version": 3
   },
   "file_extension": ".py",
   "mimetype": "text/x-python",
   "name": "python",
   "nbconvert_exporter": "python",
   "pygments_lexer": "ipython3",
   "version": "3.9.7"
  },
  "latex_envs": {
   "LaTeX_envs_menu_present": true,
   "autoclose": false,
   "autocomplete": true,
   "bibliofile": "biblio.bib",
   "cite_by": "apalike",
   "current_citInitial": 1,
   "eqLabelWithNumbers": true,
   "eqNumInitial": 1,
   "hotkeys": {
    "equation": "Ctrl-E",
    "itemize": "Ctrl-I"
   },
   "labels_anchors": false,
   "latex_user_defs": false,
   "report_style_numbering": false,
   "user_envs_cfg": false
  },
  "nteract": {
   "version": "0.12.3"
  }
 },
 "nbformat": 4,
 "nbformat_minor": 2
}
